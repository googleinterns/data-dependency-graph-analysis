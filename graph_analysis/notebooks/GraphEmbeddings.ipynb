{
  "nbformat": 4,
  "nbformat_minor": 0,
  "metadata": {
    "colab": {
      "name": "GraphEmbeddings.ipynb",
      "provenance": [],
      "collapsed_sections": []
    },
    "kernelspec": {
      "name": "python3",
      "display_name": "Python 3"
    },
    "accelerator": "GPU"
  },
  "cells": [
    {
      "cell_type": "code",
      "metadata": {
        "id": "vYnaugGE5C_6"
      },
      "source": [
        "!pip install networkx\n",
        "!pip install node2vec\n",
        "!pip install stellargraph"
      ],
      "execution_count": null,
      "outputs": []
    },
    {
      "cell_type": "markdown",
      "metadata": {
        "id": "X-H97tHSI2wz"
      },
      "source": [
        "## Node2Vec"
      ]
    },
    {
      "cell_type": "code",
      "metadata": {
        "id": "QPZo5aps8S7R"
      },
      "source": [
        "import networkx as nx\n",
        "import pandas as pd\n",
        "import altair as alt\n",
        "from node2vec import Node2Vec\n",
        "alt.data_transformers.disable_max_rows()\n",
        "\n",
        "G = nx.read_graphml(\"drive/My Drive/graph/graph_1_10.graphml\")"
      ],
      "execution_count": null,
      "outputs": []
    },
    {
      "cell_type": "code",
      "metadata": {
        "id": "BuS6OcWw9s4j"
      },
      "source": [
        "from node2vec import Node2Vec\n",
        "n2v_obj = Node2Vec(G, dimensions=10, walk_length=5, num_walks=10, p=1, q=1, workers=4)"
      ],
      "execution_count": null,
      "outputs": []
    },
    {
      "cell_type": "code",
      "metadata": {
        "id": "oc0rlXOR96Ix"
      },
      "source": [
        "n2v_model = n2v_obj.fit(window=3, min_count=1, batch_words=4)"
      ],
      "execution_count": null,
      "outputs": []
    },
    {
      "cell_type": "code",
      "metadata": {
        "id": "bft-ykVL-JaR"
      },
      "source": [
        "n2v_model"
      ],
      "execution_count": null,
      "outputs": []
    },
    {
      "cell_type": "markdown",
      "metadata": {
        "id": "B-KmnRpxI5f6"
      },
      "source": [
        "## GraphSAGE"
      ]
    },
    {
      "cell_type": "code",
      "metadata": {
        "id": "05fshUMuQZse"
      },
      "source": [
        "def process_time(t):\n",
        "    time_to_seconds = {\"s\": 1, \"m\": 60, \"h\": 3600, \"d\": 86400}\n",
        "    return int(t[:-1]) * time_to_seconds[t[-1]]\n",
        "\n",
        "time_enum = {\n",
        "    \"s\": 0,\n",
        "    \"m\": 1,\n",
        "    \"h\": 2,\n",
        "    \"d\": 3\n",
        "}\n",
        "\n",
        "system_criticality_enum = {\n",
        "      \"NOT_CRITICAL\": 0,\n",
        "      \"CRITICAL_CAN_CAUSE_S0_OUTAGE\": 1,\n",
        "      \"CRITICAL_SIGNIFICANT_RUN_RATE\": 2,\n",
        "      \"CRITICAL_OTHER\": 3\n",
        "      }\n",
        "\n",
        "env_enum = {\n",
        "    \"DEVELOPMENT_ENV\": 0,\n",
        "    \"PERSONAL_ENV\": 1,\n",
        "    \"PRODUCTION_ENV\": 2,\n",
        "    \"STAGING_ENV\": 3,\n",
        "    \"TESTING_ENV\": 4,\n",
        "    \"UNKNOWN_ENV\": 5\n",
        "  }\n",
        "\n",
        "impact_enum = {\n",
        "      \"DOWN\": 0,\n",
        "      \"SEVERELY_DEGRADED\": 1,\n",
        "      \"DEGRADED\": 2,\n",
        "      \"OPPORTUNITY_LOSS\": 3,\n",
        "      \"NONE\": 4\n",
        "    }\n",
        "\n",
        "freshness_enum = {\n",
        "      \"IMMEDIATE\": 0,\n",
        "      \"DAY\": 1,\n",
        "      \"WEEK\": 2,\n",
        "      \"EVENTUALLY\": 3,\n",
        "      \"NEVER\": 4\n",
        "    }\n",
        "\n",
        "def get_dataset_features(node_attributes):\n",
        "    regex_len_chars = len(node_attributes[\"regex_grouping\"])\n",
        "    regex_len_folders = len(node_attributes[\"regex_grouping\"].split('.'))\n",
        "    node_name_len = len(node_attributes[\"node_name\"])\n",
        "    id_in_node_name = str(node_attributes[\"id\"]) in node_attributes[\"node_name\"]\n",
        "    node_name_word_len = len(node_attributes[\"node_name\"].split())\n",
        "    slo_seconds = process_time(node_attributes[\"slo\"])\n",
        "    slo_time_var = time_enum[node_attributes[\"slo\"][-1]]\n",
        "    env = env_enum[node_attributes[\"env\"]]\n",
        "    description_len = len(node_attributes[\"description\"])\n",
        "    description_word_len = len(node_attributes[\"description\"].split())\n",
        "    return [regex_len_chars, regex_len_folders, node_name_len, id_in_node_name,\n",
        "            node_name_word_len, slo_seconds, slo_time_var, env, description_len,\n",
        "            description_word_len]\n",
        "\n",
        "def get_system_features(node_attributes):\n",
        "    regex_len_chars = len(node_attributes[\"regex_grouping\"])\n",
        "    regex_len_folders = len(node_attributes[\"regex_grouping\"].split('.'))\n",
        "    node_name_len = len(node_attributes[\"node_name\"])\n",
        "    id_in_node_name = str(node_attributes[\"id\"]) in node_attributes[\"node_name\"]\n",
        "    node_name_word_len = len(node_attributes[\"node_name\"].split())\n",
        "    env = env_enum[node_attributes[\"env\"]]\n",
        "    description_len = len(node_attributes[\"description\"])\n",
        "    description_word_len = len(node_attributes[\"description\"].split())\n",
        "    system_critic = system_criticality_enum[node_attributes[\"system_critic\"]]\n",
        "\n",
        "    return [regex_len_chars, regex_len_folders, node_name_len, id_in_node_name,\n",
        "            node_name_word_len, env, description_len, system_critic,\n",
        "            description_word_len]\n",
        "\n",
        "def get_collection_features(node_attributes):\n",
        "    node_name_len = len(node_attributes[\"node_name\"])\n",
        "    id_in_node_name = str(node_attributes[\"id\"]) in node_attributes[\"node_name\"]\n",
        "    node_name_word_len = len(node_attributes[\"node_name\"].split())\n",
        "    return [node_name_len, id_in_node_name, node_name_word_len]\n",
        "\n",
        "def get_processing_features(node_attributes):\n",
        "    return [impact_enum[node_attributes[\"impact\"]], \n",
        "            freshness_enum[node_attributes[\"freshness\"]]]\n",
        "\n",
        "def get_data_integrity_features(node_attributes):\n",
        "    data_integrity_rec_time = process_time(node_attributes[\"data_integrity_rec_time\"])\n",
        "    data_integrity_rec_time_var = time_enum[node_attributes[\"data_integrity_rec_time\"][-1]]\n",
        "    data_integrity_rest_time = process_time(node_attributes[\"data_integrity_rest_time\"])\n",
        "    data_integrity_rest_time_var = time_enum[node_attributes[\"data_integrity_rest_time\"][-1]]\n",
        "    data_integrity_reg_time = process_time(node_attributes[\"data_integrity_reg_time\"])\n",
        "    data_integrity_reg_time_var = time_enum[node_attributes[\"data_integrity_reg_time\"][-1]]\n",
        "    data_integrity_volat = node_attributes[\"data_integrity_volat\"]\n",
        "\n",
        "    return [data_integrity_rec_time, data_integrity_rec_time_var, data_integrity_rest_time, \n",
        "            data_integrity_rest_time_var, data_integrity_reg_time, data_integrity_reg_time_var, \n",
        "            data_integrity_volat]"
      ],
      "execution_count": null,
      "outputs": []
    },
    {
      "cell_type": "code",
      "metadata": {
        "id": "WN1G9211ZElc"
      },
      "source": [
        "node_types = [\"collection\", \"dataset_collection\", \"system_collection\", \"dataset\", \"system\",  \"data_integrity\", \"processing\"]"
      ],
      "execution_count": null,
      "outputs": []
    },
    {
      "cell_type": "code",
      "metadata": {
        "id": "VnINEmkqN3ZZ"
      },
      "source": [
        "stellar_nodes = []\n",
        "\n",
        "for node in G.nodes():\n",
        "    node_attributes = G.nodes()[node]\n",
        "    if node_attributes[\"type\"] == \"dataset\":\n",
        "        extracted_features = get_dataset_features(node_attributes)\n",
        "    elif node_attributes[\"type\"] == \"system\":\n",
        "        extracted_features = get_system_features(node_attributes)\n",
        "    elif node_attributes[\"type\"] == \"data_integrity\":\n",
        "        extracted_features = get_data_integrity_features(node_attributes)\n",
        "    elif node_attributes[\"type\"] == \"processing\":\n",
        "        extracted_features = get_processing_features(node_attributes)\n",
        "    else:\n",
        "        extracted_features = get_collection_features(node_attributes)\n",
        "\n",
        "    stellar_node_attributes = {\"label\": node_attributes[\"type\"], \"feature\": extracted_features}\n",
        "    stellar_nodes.append((node, stellar_node_attributes))"
      ],
      "execution_count": null,
      "outputs": []
    },
    {
      "cell_type": "code",
      "metadata": {
        "id": "yFnF39zUO4e4"
      },
      "source": [
        "preprocessed_graph = nx.DiGraph()\n",
        "preprocessed_graph.add_nodes_from(stellar_nodes)"
      ],
      "execution_count": null,
      "outputs": []
    },
    {
      "cell_type": "code",
      "metadata": {
        "id": "eSoR75irVFFL",
        "outputId": "fc43fb1d-51c0-4482-baa8-b11313268cd1",
        "colab": {
          "base_uri": "https://localhost:8080/"
        }
      },
      "source": [
        "import time\n",
        "start = time.time()\n",
        "for edge in G.edges():\n",
        "    preprocessed_graph.add_edge(edge[0], edge[1], label=G.edges()[edge]['label'])\n",
        "print(time.time() - start)"
      ],
      "execution_count": null,
      "outputs": [
        {
          "output_type": "stream",
          "text": [
            "3.434558868408203\n"
          ],
          "name": "stdout"
        }
      ]
    },
    {
      "cell_type": "code",
      "metadata": {
        "id": "nkTrCepYJBe_"
      },
      "source": [
        "from stellargraph import StellarGraph\n",
        "stellar_graph = StellarGraph.from_networkx(preprocessed_graph, node_features=\"feature\")"
      ],
      "execution_count": null,
      "outputs": []
    },
    {
      "cell_type": "code",
      "metadata": {
        "id": "JG3Zm8IvJFp_",
        "outputId": "4e6d1ced-1566-453a-9842-7edc374af106",
        "colab": {
          "base_uri": "https://localhost:8080/"
        }
      },
      "source": [
        "print(stellar_graph.info())"
      ],
      "execution_count": null,
      "outputs": [
        {
          "output_type": "stream",
          "text": [
            "StellarDiGraph: Directed multigraph\n",
            " Nodes: 315887, Edges: 369510\n",
            "\n",
            " Node types:\n",
            "  dataset: [212368]\n",
            "    Features: float32 vector, length 10\n",
            "    Edge types: dataset-INPUTS->processing\n",
            "  processing: [53633]\n",
            "    Features: float32 vector, length 2\n",
            "    Edge types: processing-INPUTS->system, processing-OUTPUTS->dataset\n",
            "  dataset_collection: [20028]\n",
            "    Features: float32 vector, length 3\n",
            "    Edge types: dataset_collection-CONTAINS->dataset, dataset_collection-HAS->data_integrity\n",
            "  data_integrity: [20028]\n",
            "    Features: float32 vector, length 7\n",
            "    Edge types: none\n",
            "  system: [8415]\n",
            "    Features: float32 vector, length 9\n",
            "    Edge types: system-OUTPUTS->processing\n",
            "  system_collection: [1405]\n",
            "    Features: float32 vector, length 3\n",
            "    Edge types: system_collection-CONTAINS->system\n",
            "  collection: [10]\n",
            "    Features: float32 vector, length 3\n",
            "    Edge types: collection-CONTAINS->dataset_collection, collection-CONTAINS->system_collection\n",
            "\n",
            " Edge types:\n",
            "    dataset_collection-CONTAINS->dataset: [212368]\n",
            "        Weights: all 1 (default)\n",
            "        Features: none\n",
            "    processing-INPUTS->system: [39781]\n",
            "        Weights: all 1 (default)\n",
            "        Features: none\n",
            "    dataset-INPUTS->processing: [39781]\n",
            "        Weights: all 1 (default)\n",
            "        Features: none\n",
            "    dataset_collection-HAS->data_integrity: [20028]\n",
            "        Weights: all 1 (default)\n",
            "        Features: none\n",
            "    collection-CONTAINS->dataset_collection: [20028]\n",
            "        Weights: all 1 (default)\n",
            "        Features: none\n",
            "    system-OUTPUTS->processing: [13852]\n",
            "        Weights: all 1 (default)\n",
            "        Features: none\n",
            "    processing-OUTPUTS->dataset: [13852]\n",
            "        Weights: all 1 (default)\n",
            "        Features: none\n",
            "    system_collection-CONTAINS->system: [8415]\n",
            "        Weights: all 1 (default)\n",
            "        Features: none\n",
            "    collection-CONTAINS->system_collection: [1405]\n",
            "        Weights: all 1 (default)\n",
            "        Features: none\n"
          ],
          "name": "stdout"
        }
      ]
    },
    {
      "cell_type": "code",
      "metadata": {
        "id": "7zKPtFBrX_10"
      },
      "source": [
        "from stellargraph.mapper import (\n",
        "    CorruptedGenerator\n",
        "    GraphSAGENodeGenerator,\n",
        "    HinSAGENodeGenerator,\n",
        ")\n",
        "from stellargraph import StellarGraph\n",
        "from stellargraph.layer import GCN, DeepGraphInfomax, GraphSAGE, GAT, APPNP, HinSAGE\n",
        "\n",
        "from stellargraph import datasets\n",
        "from stellargraph.utils import plot_history\n",
        "\n",
        "import pandas as pd\n",
        "from matplotlib import pyplot as plt\n",
        "from sklearn import model_selection\n",
        "from sklearn.linear_model import LogisticRegression\n",
        "from sklearn.manifold import TSNE\n",
        "from IPython.display import display, HTML\n",
        "\n",
        "from tensorflow.keras.optimizers import Adam\n",
        "from tensorflow.keras.callbacks import EarlyStopping\n",
        "import tensorflow as tf\n",
        "from tensorflow.keras import Model"
      ],
      "execution_count": null,
      "outputs": []
    },
    {
      "cell_type": "code",
      "metadata": {
        "id": "9TeskNogoJU4"
      },
      "source": [
        "hinsage_generator = HinSAGENodeGenerator(\n",
        "    stellar_graph, batch_size=1000, num_samples=[5], head_node_type=\"dataset\"\n",
        ")\n",
        "\n",
        "hinsage_model = HinSAGE(\n",
        "    layer_sizes=[128], activations=[\"relu\"], generator=hinsage_generator\n",
        ")"
      ],
      "execution_count": null,
      "outputs": []
    }
  ]
}